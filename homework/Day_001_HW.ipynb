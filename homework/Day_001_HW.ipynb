{
 "cells": [
  {
   "cell_type": "markdown",
   "metadata": {},
   "source": [
    "作業1"
   ]
  },
  {
   "cell_type": "code",
   "execution_count": 2,
   "metadata": {},
   "outputs": [
    {
     "name": "stdout",
     "output_type": "stream",
     "text": [
      "0.25\n"
     ]
    }
   ],
   "source": [
    "import numpy as np\n",
    "\n",
    "def MSE(y, y_pred):\n",
    " \n",
    "        mse = np.mean((y - y_pred)**2) \n",
    "   \n",
    "        return mse\n",
    "\n",
    "print (MSE(3,2.5))"
   ]
  },
  {
   "cell_type": "markdown",
   "metadata": {},
   "source": [
    "作業2"
   ]
  },
  {
   "cell_type": "markdown",
   "metadata": {},
   "source": [
    "https://www.kaggle.com/shree1992/housedata\n",
    "\n",
    "1.房價預測模型\n",
    "房地產價格是一個國家整體市場狀況和經濟健康狀況的良好指標，\n",
    "藉由預測房地產價格，可以深入了解當地經濟發展狀況。\n",
    "\n",
    "2.澳洲悉尼和墨爾本的房地產市場的物業銷售記錄\n",
    "\n",
    "3.結構化資料(csv檔,18個欄位)\n",
    "\n",
    "4.迴歸分析、決策樹分類\n",
    "\n",
    "\n"
   ]
  },
  {
   "cell_type": "markdown",
   "metadata": {},
   "source": [
    "作業3\n",
    "\n",
    "1.假設:收入較高的地區，需要出租車的需求較高。\n",
    "2.資料來源:(自家資料庫提供)每台車載客的GPS、每台車的營收。\n",
    "(外部資料庫；稅捐稽徵處各地區報稅資料、各地區所涵蓋GPS範圍)\n",
    "\n",
    "3.結構化資料\n",
    "\n",
    "4.T檢定、F檢定(高繳稅地區的乘車率、乘車金額是否高於其他繳稅地區)；\n",
    "資料分類(kNN)"
   ]
  }
 ],
 "metadata": {
  "kernelspec": {
   "display_name": "Python 3",
   "language": "python",
   "name": "python3"
  },
  "language_info": {
   "codemirror_mode": {
    "name": "ipython",
    "version": 3
   },
   "file_extension": ".py",
   "mimetype": "text/x-python",
   "name": "python",
   "nbconvert_exporter": "python",
   "pygments_lexer": "ipython3",
   "version": "3.7.4"
  },
  "widgets": {
   "application/vnd.jupyter.widget-state+json": {
    "state": {},
    "version_major": 2,
    "version_minor": 0
   }
  }
 },
 "nbformat": 4,
 "nbformat_minor": 2
}
