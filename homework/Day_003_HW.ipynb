{
 "cells": [
  {
   "cell_type": "markdown",
   "metadata": {},
   "source": [
    "作業\n",
    "\n",
    "https://ai.googleblog.com/2020/04/a-step-towards-protecting-patients-from.html\n",
    "\n",
    "防止患者服藥錯誤\n",
    "專案的目標？ \n",
    "防止醫生或藥劑師因不小心的疏忽，開錯處分或配錯藥物，讓患者吃到不該吃到的藥物。\n",
    "利用機器學習去判斷是否為異常的處分簽，減少醫療人員的失誤。\n",
    "\n",
    "\n",
    "使用的技術是？\n",
    "LSTM 和 regularized, time-bucketed logistic model(羅吉斯迴歸分析)\n",
    "\n",
    "資料來源？\n",
    "\n",
    "The dataset used for model training included approximately three million medication orders from over 100,000 hospitalizations.\n",
    "3百萬次的藥劑訂單與超過100,000次的住院治療資料"
   ]
  }
 ],
 "metadata": {
  "kernelspec": {
   "display_name": "Python 3",
   "language": "python",
   "name": "python3"
  },
  "language_info": {
   "codemirror_mode": {
    "name": "ipython",
    "version": 3
   },
   "file_extension": ".py",
   "mimetype": "text/x-python",
   "name": "python",
   "nbconvert_exporter": "python",
   "pygments_lexer": "ipython3",
   "version": "3.7.4"
  }
 },
 "nbformat": 4,
 "nbformat_minor": 2
}
