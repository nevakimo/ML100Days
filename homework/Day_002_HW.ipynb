{
 "cells": [
  {
   "cell_type": "markdown",
   "metadata": {},
   "source": [
    " 作業\n",
    " 目標利用機器學習進行股價預測。\n",
    " 股票市場是一個風險極高的投資市場，\n",
    " 因為影響股價的數據相當繁雜，\n",
    " 已經無法只依靠人腦或舊有的經驗就可以快速正確的去處理這些訊息。\n",
    " 利用機器學習，可以幫助投資者從這些海量資訊裡找出真正有用的資訊，\n",
    " 幫助判斷，減少誤差。\n",
    " "
   ]
  }
 ],
 "metadata": {
  "kernelspec": {
   "display_name": "Python 3",
   "language": "python",
   "name": "python3"
  },
  "language_info": {
   "codemirror_mode": {
    "name": "ipython",
    "version": 3
   },
   "file_extension": ".py",
   "mimetype": "text/x-python",
   "name": "python",
   "nbconvert_exporter": "python",
   "pygments_lexer": "ipython3",
   "version": "3.7.4"
  }
 },
 "nbformat": 4,
 "nbformat_minor": 2
}
